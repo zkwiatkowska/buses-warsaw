{
 "cells": [
  {
   "cell_type": "markdown",
   "id": "robust-valentine",
   "metadata": {},
   "source": [
    "# Example: Data analysis\n",
    "\n",
    "There are two types of insights that can be extracted from data: punctuality and speed. Instead of downloading data now, we will use already downloaded data that are stored in this repository.\n",
    "\n",
    "In case there are data missing, we can download them, without saving, during our analysis. We will use API key made for debugging purposes of this project, but you should create your own account and API key if you want to perform your analysis ([website](https://api.um.warszawa.pl/)).  "
   ]
  },
  {
   "cell_type": "code",
   "execution_count": 1,
   "id": "narrow-bouquet",
   "metadata": {},
   "outputs": [],
   "source": [
    "API_KEY = '5fbe79ed-1f5b-4019-ab03-641443842d8b'"
   ]
  },
  {
   "cell_type": "code",
   "execution_count": 2,
   "id": "professional-lender",
   "metadata": {},
   "outputs": [],
   "source": [
    "from bwaw.io.load import load_response_from_csv\n",
    "from bwaw.utils.format_conversion import column_str_to_datetime\n",
    "from bwaw.insights.data import get_all_of_time, get_all_of_line, get_all_of_brigade, remove_duplicates\n",
    "from bwaw.insights.speed import get_speed_incidents_for_bus, get_all_incidents, get_short_incidents_summary, get_full_incidents_summary\n",
    "from bwaw.insights.punctuality import get_punctuality_list_for_bus, get_punctuality_list_for_buses, get_punctuality_report"
   ]
  },
  {
   "cell_type": "code",
   "execution_count": 3,
   "id": "permanent-swift",
   "metadata": {},
   "outputs": [],
   "source": [
    "from pathlib import Path"
   ]
  },
  {
   "cell_type": "code",
   "execution_count": 4,
   "id": "banner-edinburgh",
   "metadata": {},
   "outputs": [],
   "source": [
    "DATA_PATH = Path('../data')"
   ]
  },
  {
   "cell_type": "code",
   "execution_count": 5,
   "id": "brave-memorabilia",
   "metadata": {},
   "outputs": [],
   "source": [
    "buses_activity = load_response_from_csv(DATA_PATH / 'active_buses_2021_02_09.csv')\n",
    "coordinates = load_response_from_csv(DATA_PATH / 'coordinates_2021_02_09.csv')"
   ]
  },
  {
   "cell_type": "markdown",
   "id": "measured-scholar",
   "metadata": {},
   "source": [
    "## Speed insights\n",
    "\n",
    "We can use `speed` module to:\n",
    "1. find speed incidents for a single bus,\n",
    "2. find speed incidents for multiple buses,\n",
    "3. generate short, human-readable summary of speed incidents,\n",
    "4. generate longer, human-readable summary.\n",
    "\n",
    "Firstly, we will prepare data using `data` and `format_conversion` modules. We will delete duplicates and format `Time` column properly. We can also restrict time to chosen period."
   ]
  },
  {
   "cell_type": "code",
   "execution_count": 6,
   "id": "vocal-whale",
   "metadata": {},
   "outputs": [],
   "source": [
    "buses_activity = remove_duplicates(buses_activity)\n",
    "buses_activity['Time'] = column_str_to_datetime(buses_activity['Time'])\n",
    "buses_activity = get_all_of_time(buses_activity, start='2021-02-09 15:45:00', end='2021-02-09 16:45:00')\n",
    "buses_activity['Lon'] = buses_activity['Lon'].apply(lambda x: float(x))\n",
    "buses_activity['Lat'] = buses_activity['Lat'].apply(lambda x: float(x))"
   ]
  },
  {
   "cell_type": "code",
   "execution_count": 7,
   "id": "loaded-costs",
   "metadata": {},
   "outputs": [
    {
     "data": {
      "text/html": [
       "<div>\n",
       "<style scoped>\n",
       "    .dataframe tbody tr th:only-of-type {\n",
       "        vertical-align: middle;\n",
       "    }\n",
       "\n",
       "    .dataframe tbody tr th {\n",
       "        vertical-align: top;\n",
       "    }\n",
       "\n",
       "    .dataframe thead th {\n",
       "        text-align: right;\n",
       "    }\n",
       "</style>\n",
       "<table border=\"1\" class=\"dataframe\">\n",
       "  <thead>\n",
       "    <tr style=\"text-align: right;\">\n",
       "      <th></th>\n",
       "      <th>Lines</th>\n",
       "      <th>Lon</th>\n",
       "      <th>VehicleNumber</th>\n",
       "      <th>Time</th>\n",
       "      <th>Lat</th>\n",
       "      <th>Brigade</th>\n",
       "    </tr>\n",
       "  </thead>\n",
       "  <tbody>\n",
       "    <tr>\n",
       "      <th>0</th>\n",
       "      <td>311</td>\n",
       "      <td>21.074444</td>\n",
       "      <td>1000</td>\n",
       "      <td>2021-02-09 15:45:29</td>\n",
       "      <td>52.249487</td>\n",
       "      <td>2</td>\n",
       "    </tr>\n",
       "    <tr>\n",
       "      <th>1</th>\n",
       "      <td>213</td>\n",
       "      <td>21.092148</td>\n",
       "      <td>1001</td>\n",
       "      <td>2021-02-09 15:45:27</td>\n",
       "      <td>52.224536</td>\n",
       "      <td>2</td>\n",
       "    </tr>\n",
       "    <tr>\n",
       "      <th>2</th>\n",
       "      <td>213</td>\n",
       "      <td>21.188760</td>\n",
       "      <td>1002</td>\n",
       "      <td>2021-02-09 15:45:29</td>\n",
       "      <td>52.149940</td>\n",
       "      <td>1</td>\n",
       "    </tr>\n",
       "    <tr>\n",
       "      <th>3</th>\n",
       "      <td>196</td>\n",
       "      <td>21.176237</td>\n",
       "      <td>1005</td>\n",
       "      <td>2021-02-09 15:45:29</td>\n",
       "      <td>52.256781</td>\n",
       "      <td>1</td>\n",
       "    </tr>\n",
       "    <tr>\n",
       "      <th>4</th>\n",
       "      <td>130</td>\n",
       "      <td>21.009918</td>\n",
       "      <td>1007</td>\n",
       "      <td>2021-02-09 15:45:24</td>\n",
       "      <td>52.203511</td>\n",
       "      <td>1</td>\n",
       "    </tr>\n",
       "  </tbody>\n",
       "</table>\n",
       "</div>"
      ],
      "text/plain": [
       "  Lines        Lon VehicleNumber                Time        Lat Brigade\n",
       "0   311  21.074444          1000 2021-02-09 15:45:29  52.249487       2\n",
       "1   213  21.092148          1001 2021-02-09 15:45:27  52.224536       2\n",
       "2   213  21.188760          1002 2021-02-09 15:45:29  52.149940       1\n",
       "3   196  21.176237          1005 2021-02-09 15:45:29  52.256781       1\n",
       "4   130  21.009918          1007 2021-02-09 15:45:24  52.203511       1"
      ]
     },
     "execution_count": 7,
     "metadata": {},
     "output_type": "execute_result"
    }
   ],
   "source": [
    "buses_activity.head()"
   ]
  },
  {
   "cell_type": "markdown",
   "id": "violent-lover",
   "metadata": {},
   "source": [
    "Now we generate the insights from points 1-4."
   ]
  },
  {
   "cell_type": "code",
   "execution_count": 8,
   "id": "rural-validity",
   "metadata": {},
   "outputs": [
    {
     "name": "stdout",
     "output_type": "stream",
     "text": [
      "      Speed        Lat        Lon                    Time\n",
      "0  59.78140  52.182806  21.206846 2021-02-09 16:27:10.000\n",
      "1  52.12374  52.195111  21.169966 2021-02-09 16:36:28.500\n"
     ]
    }
   ],
   "source": [
    "example_line = get_all_of_line(buses_activity, line='213')\n",
    "example_brigade = get_all_of_brigade(example_line, brigade='1')\n",
    "print(get_speed_incidents_for_bus(data=example_brigade, speed_limit=50))"
   ]
  },
  {
   "cell_type": "markdown",
   "id": "precious-piece",
   "metadata": {},
   "source": [
    "For line 213, brigade 1 and speed limit of 50 km/h, 2 speed limit incidents were found. Each time, we save when and where they happen. By incident, we mean any speed higher than speed limit calculated between two consecutive points on the bus route."
   ]
  },
  {
   "cell_type": "code",
   "execution_count": 9,
   "id": "frozen-nevada",
   "metadata": {},
   "outputs": [
    {
     "data": {
      "text/html": [
       "<div>\n",
       "<style scoped>\n",
       "    .dataframe tbody tr th:only-of-type {\n",
       "        vertical-align: middle;\n",
       "    }\n",
       "\n",
       "    .dataframe tbody tr th {\n",
       "        vertical-align: top;\n",
       "    }\n",
       "\n",
       "    .dataframe thead th {\n",
       "        text-align: right;\n",
       "    }\n",
       "</style>\n",
       "<table border=\"1\" class=\"dataframe\">\n",
       "  <thead>\n",
       "    <tr style=\"text-align: right;\">\n",
       "      <th></th>\n",
       "      <th>Lines</th>\n",
       "      <th>Speed</th>\n",
       "      <th>Lat</th>\n",
       "      <th>Lon</th>\n",
       "      <th>Time</th>\n",
       "    </tr>\n",
       "  </thead>\n",
       "  <tbody>\n",
       "    <tr>\n",
       "      <th>0</th>\n",
       "      <td>172</td>\n",
       "      <td>52.433580</td>\n",
       "      <td>52.208009</td>\n",
       "      <td>20.976122</td>\n",
       "      <td>2021-02-09 15:45:43.000</td>\n",
       "    </tr>\n",
       "    <tr>\n",
       "      <th>1</th>\n",
       "      <td>172</td>\n",
       "      <td>86.458391</td>\n",
       "      <td>52.195749</td>\n",
       "      <td>21.008716</td>\n",
       "      <td>2021-02-09 16:15:38.500</td>\n",
       "    </tr>\n",
       "    <tr>\n",
       "      <th>2</th>\n",
       "      <td>172</td>\n",
       "      <td>51.883088</td>\n",
       "      <td>52.197099</td>\n",
       "      <td>21.018591</td>\n",
       "      <td>2021-02-09 16:19:11.000</td>\n",
       "    </tr>\n",
       "    <tr>\n",
       "      <th>3</th>\n",
       "      <td>733</td>\n",
       "      <td>69.479078</td>\n",
       "      <td>52.099988</td>\n",
       "      <td>20.822176</td>\n",
       "      <td>2021-02-09 16:01:40.000</td>\n",
       "    </tr>\n",
       "    <tr>\n",
       "      <th>4</th>\n",
       "      <td>733</td>\n",
       "      <td>69.580050</td>\n",
       "      <td>52.105487</td>\n",
       "      <td>20.835756</td>\n",
       "      <td>2021-02-09 16:02:37.500</td>\n",
       "    </tr>\n",
       "    <tr>\n",
       "      <th>...</th>\n",
       "      <td>...</td>\n",
       "      <td>...</td>\n",
       "      <td>...</td>\n",
       "      <td>...</td>\n",
       "      <td>...</td>\n",
       "    </tr>\n",
       "    <tr>\n",
       "      <th>939</th>\n",
       "      <td>707</td>\n",
       "      <td>61.292923</td>\n",
       "      <td>52.118680</td>\n",
       "      <td>20.892547</td>\n",
       "      <td>2021-02-09 15:49:02.000</td>\n",
       "    </tr>\n",
       "    <tr>\n",
       "      <th>940</th>\n",
       "      <td>707</td>\n",
       "      <td>58.630468</td>\n",
       "      <td>52.083617</td>\n",
       "      <td>20.958537</td>\n",
       "      <td>2021-02-09 16:04:14.500</td>\n",
       "    </tr>\n",
       "    <tr>\n",
       "      <th>941</th>\n",
       "      <td>L-3</td>\n",
       "      <td>53.847739</td>\n",
       "      <td>52.033646</td>\n",
       "      <td>20.859375</td>\n",
       "      <td>2021-02-09 16:15:22.500</td>\n",
       "    </tr>\n",
       "    <tr>\n",
       "      <th>942</th>\n",
       "      <td>L-3</td>\n",
       "      <td>67.938871</td>\n",
       "      <td>52.047116</td>\n",
       "      <td>20.864655</td>\n",
       "      <td>2021-02-09 16:17:12.500</td>\n",
       "    </tr>\n",
       "    <tr>\n",
       "      <th>943</th>\n",
       "      <td>L-3</td>\n",
       "      <td>50.143499</td>\n",
       "      <td>52.067196</td>\n",
       "      <td>20.872551</td>\n",
       "      <td>2021-02-09 16:20:51.500</td>\n",
       "    </tr>\n",
       "  </tbody>\n",
       "</table>\n",
       "<p>944 rows × 5 columns</p>\n",
       "</div>"
      ],
      "text/plain": [
       "    Lines      Speed        Lat        Lon                    Time\n",
       "0     172  52.433580  52.208009  20.976122 2021-02-09 15:45:43.000\n",
       "1     172  86.458391  52.195749  21.008716 2021-02-09 16:15:38.500\n",
       "2     172  51.883088  52.197099  21.018591 2021-02-09 16:19:11.000\n",
       "3     733  69.479078  52.099988  20.822176 2021-02-09 16:01:40.000\n",
       "4     733  69.580050  52.105487  20.835756 2021-02-09 16:02:37.500\n",
       "..    ...        ...        ...        ...                     ...\n",
       "939   707  61.292923  52.118680  20.892547 2021-02-09 15:49:02.000\n",
       "940   707  58.630468  52.083617  20.958537 2021-02-09 16:04:14.500\n",
       "941   L-3  53.847739  52.033646  20.859375 2021-02-09 16:15:22.500\n",
       "942   L-3  67.938871  52.047116  20.864655 2021-02-09 16:17:12.500\n",
       "943   L-3  50.143499  52.067196  20.872551 2021-02-09 16:20:51.500\n",
       "\n",
       "[944 rows x 5 columns]"
      ]
     },
     "execution_count": 9,
     "metadata": {},
     "output_type": "execute_result"
    }
   ],
   "source": [
    "get_all_incidents(data=buses_activity, speed_limit=50)"
   ]
  },
  {
   "cell_type": "markdown",
   "id": "dried-messaging",
   "metadata": {},
   "source": [
    "Instead of doing this analysis for single bus, we can calculate all incidents for all buses. Additionally to the single bus analysis, we will get a column with bus number that had such incident."
   ]
  },
  {
   "cell_type": "code",
   "execution_count": 10,
   "id": "empirical-windsor",
   "metadata": {},
   "outputs": [
    {
     "name": "stdout",
     "output_type": "stream",
     "text": [
      "Speed limit: 50 km/h.\n",
      "Total number of incidents: 943.\n",
      "165/252 buses had incidents (65.48%).\n",
      "\n"
     ]
    }
   ],
   "source": [
    "print(get_short_incidents_summary(data=buses_activity, speed_limit=50)[0])"
   ]
  },
  {
   "cell_type": "markdown",
   "id": "suburban-hometown",
   "metadata": {},
   "source": [
    "To make analysis easier, reports are generated in a human-readable form. We can see that on 09-02-2021 between 15:45 and 16:45 there were 941 speed limit incidents and more than 60% of buses had at least one incident."
   ]
  },
  {
   "cell_type": "code",
   "execution_count": 11,
   "id": "knowing-supply",
   "metadata": {},
   "outputs": [
    {
     "name": "stdout",
     "output_type": "stream",
     "text": [
      "Speed limit: 50 km/h.\n",
      "Total number of incidents: 943.\n",
      "165/252 buses had incidents (65.48%).\n",
      "Top 3 buses with highest number of incidents were:\n",
      "E-9    56 incidents\n",
      "511    44 incidents\n",
      "402    34 incidents\n",
      "Top 3 places with highest number of incidents were:\n",
      "(52.23, 21.07) - 23 incidents.\n",
      "(52.29, 20.99) - 17 incidents.\n",
      "(52.17, 21.07) - 13 incidents.\n",
      "\n"
     ]
    }
   ],
   "source": [
    "print(get_full_incidents_summary(data=buses_activity, speed_limit=50)[0])"
   ]
  },
  {
   "cell_type": "markdown",
   "id": "statutory-joining",
   "metadata": {},
   "source": [
    "Additionaly to short report, we can get more insights, such as which buses had the highest number of incidents and where the incidents happen most often.\n",
    "\n",
    "The place where incidents occur is calculated within 8x8 grid over Warsaw map. For each piece in the grid, incidents are summarized and then statistics per piece are shown using geogprahic location."
   ]
  },
  {
   "cell_type": "markdown",
   "id": "material-values",
   "metadata": {},
   "source": [
    "## Punctuality insights\n",
    "\n",
    "Similarly to `speed`, using `punctuality` module we can generate:\n",
    "1. punctuality insight for a single bus,\n",
    "2. for multiple buses,\n",
    "3. human-readable report.\n",
    "\n",
    "Again, before analysis we need to additionaly prepare some coordinates data."
   ]
  },
  {
   "cell_type": "code",
   "execution_count": 12,
   "id": "sophisticated-cigarette",
   "metadata": {},
   "outputs": [
    {
     "data": {
      "text/html": [
       "<div>\n",
       "<style scoped>\n",
       "    .dataframe tbody tr th:only-of-type {\n",
       "        vertical-align: middle;\n",
       "    }\n",
       "\n",
       "    .dataframe tbody tr th {\n",
       "        vertical-align: top;\n",
       "    }\n",
       "\n",
       "    .dataframe thead th {\n",
       "        text-align: right;\n",
       "    }\n",
       "</style>\n",
       "<table border=\"1\" class=\"dataframe\">\n",
       "  <thead>\n",
       "    <tr style=\"text-align: right;\">\n",
       "      <th></th>\n",
       "      <th>ID</th>\n",
       "      <th>Number</th>\n",
       "      <th>Latitude</th>\n",
       "      <th>Longitude</th>\n",
       "      <th>Destination</th>\n",
       "      <th>Validity</th>\n",
       "    </tr>\n",
       "  </thead>\n",
       "  <tbody>\n",
       "    <tr>\n",
       "      <th>0</th>\n",
       "      <td>1001</td>\n",
       "      <td>01</td>\n",
       "      <td>52.248455</td>\n",
       "      <td>21.044827</td>\n",
       "      <td>al.Zieleniecka</td>\n",
       "      <td>2020-10-12 00:00:00.0</td>\n",
       "    </tr>\n",
       "    <tr>\n",
       "      <th>1</th>\n",
       "      <td>1001</td>\n",
       "      <td>02</td>\n",
       "      <td>52.249078</td>\n",
       "      <td>21.044443</td>\n",
       "      <td>Ząbkowska</td>\n",
       "      <td>2020-10-12 00:00:00.0</td>\n",
       "    </tr>\n",
       "    <tr>\n",
       "      <th>2</th>\n",
       "      <td>1001</td>\n",
       "      <td>03</td>\n",
       "      <td>52.248998</td>\n",
       "      <td>21.043983</td>\n",
       "      <td>al.Zieleniecka</td>\n",
       "      <td>2020-10-12 00:00:00.0</td>\n",
       "    </tr>\n",
       "    <tr>\n",
       "      <th>3</th>\n",
       "      <td>1001</td>\n",
       "      <td>03</td>\n",
       "      <td>52.248928</td>\n",
       "      <td>21.044169</td>\n",
       "      <td>al.Zieleniecka</td>\n",
       "      <td>2020-11-19 00:00:00.0</td>\n",
       "    </tr>\n",
       "    <tr>\n",
       "      <th>4</th>\n",
       "      <td>1001</td>\n",
       "      <td>04</td>\n",
       "      <td>52.249905</td>\n",
       "      <td>21.041726</td>\n",
       "      <td>Ząbkowska</td>\n",
       "      <td>2020-10-12 00:00:00.0</td>\n",
       "    </tr>\n",
       "  </tbody>\n",
       "</table>\n",
       "</div>"
      ],
      "text/plain": [
       "     ID Number   Latitude  Longitude     Destination               Validity\n",
       "0  1001     01  52.248455  21.044827  al.Zieleniecka  2020-10-12 00:00:00.0\n",
       "1  1001     02  52.249078  21.044443       Ząbkowska  2020-10-12 00:00:00.0\n",
       "2  1001     03  52.248998  21.043983  al.Zieleniecka  2020-10-12 00:00:00.0\n",
       "3  1001     03  52.248928  21.044169  al.Zieleniecka  2020-11-19 00:00:00.0\n",
       "4  1001     04  52.249905  21.041726       Ząbkowska  2020-10-12 00:00:00.0"
      ]
     },
     "execution_count": 12,
     "metadata": {},
     "output_type": "execute_result"
    }
   ],
   "source": [
    "coordinates = remove_duplicates(coordinates)\n",
    "coordinates['Longitude'] = coordinates['Longitude'].apply(lambda x: float(x))\n",
    "coordinates['Latitude'] = coordinates['Latitude'].apply(lambda x: float(x))\n",
    "coordinates.head()"
   ]
  },
  {
   "cell_type": "markdown",
   "id": "suburban-elizabeth",
   "metadata": {},
   "source": [
    "There are two ways how you can compare loaded data to timetables: by downloading timetables online and by using already downloaded timetables."
   ]
  },
  {
   "cell_type": "code",
   "execution_count": 13,
   "id": "adaptive-brain",
   "metadata": {},
   "outputs": [
    {
     "name": "stderr",
     "output_type": "stream",
     "text": [
      "\r",
      "  0%|          | 0/440 [00:00<?, ?it/s]"
     ]
    },
    {
     "name": "stdout",
     "output_type": "stream",
     "text": [
      "[False, True, True, True, True, False, True, True, True, True, False, False, False, True, False, True, True, True, False, False]\n"
     ]
    },
    {
     "name": "stderr",
     "output_type": "stream",
     "text": [
      " 99%|█████████▉| 436/440 [00:17<00:00, 25.61it/s]"
     ]
    },
    {
     "name": "stdout",
     "output_type": "stream",
     "text": [
      "[False, True, True, True, True, False, True, True, True, True, False, False, False, True, False, True, True, True, False, False]\n"
     ]
    }
   ],
   "source": [
    "example_line = get_all_of_line(buses_activity, '109')\n",
    "print(get_punctuality_list_for_bus(example_line, coordinates, path=DATA_PATH, proximity=3))\n",
    "print(get_punctuality_list_for_bus(example_line, coordinates, api_key=API_KEY, proximity=3, verbosity=True))"
   ]
  },
  {
   "cell_type": "markdown",
   "id": "incorrect-electronics",
   "metadata": {},
   "source": [
    "Punctuality is stored in a list. For each match between bus and bus stop location, we determine if it arrived before or after time given in a timetable. If we decide to use online timetable downloading, we can set `verbosity` parameter to `True` to see the progress of download. Timetables for the whole route from time period given are downloaded for a bus.\n",
    "\n",
    "Similarly, we can generate such list for all buses in data using `get_punctuality_list_for_buses`, but instead we will prepare punctuality report that uses this function under the hood.\n",
    "\n",
    "We can choose list of buses that interest us and compare their punctuality."
   ]
  },
  {
   "cell_type": "code",
   "execution_count": 14,
   "id": "religious-alignment",
   "metadata": {},
   "outputs": [
    {
     "name": "stderr",
     "output_type": "stream",
     "text": [
      "100%|██████████| 440/440 [00:20<00:00, 21.25it/s]\n"
     ]
    },
    {
     "name": "stdout",
     "output_type": "stream",
     "text": [
      "Percentage of punctuality incidents:\n",
      "- 109 line: 46.67% incidents.\n",
      "- 183 line: 33.33% incidents.\n",
      "\n"
     ]
    }
   ],
   "source": [
    "chosen_lines = ['109', '183']\n",
    "lines = buses_activity[buses_activity['Lines'].isin(chosen_lines)]\n",
    "print(get_punctuality_report(lines, coordinates, api_key=API_KEY, proximity=5, verbosity=False))"
   ]
  },
  {
   "cell_type": "markdown",
   "id": "viral-backup",
   "metadata": {},
   "source": [
    "We can see that 109 has more punctuality incidents than line 183."
   ]
  }
 ],
 "metadata": {
  "kernelspec": {
   "display_name": "Python 3",
   "language": "python",
   "name": "python3"
  },
  "language_info": {
   "codemirror_mode": {
    "name": "ipython",
    "version": 3
   },
   "file_extension": ".py",
   "mimetype": "text/x-python",
   "name": "python",
   "nbconvert_exporter": "python",
   "pygments_lexer": "ipython3",
   "version": "3.8.5"
  }
 },
 "nbformat": 4,
 "nbformat_minor": 5
}
