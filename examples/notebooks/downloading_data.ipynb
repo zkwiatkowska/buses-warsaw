{
 "cells": [
  {
   "cell_type": "markdown",
   "id": "robust-valentine",
   "metadata": {},
   "source": [
    "# Example: Data aggregation\n",
    "\n",
    "Currently, resources that can be downloaded from [UMWaw API](https://api.um.warszawa.pl/) include:\n",
    "1. information about currently active buses,\n",
    "1. information about currently active buses downloaded over a period of time,\n",
    "1. all bus stop ids based on bus stop name,\n",
    "1. all lines using bus stop based on its id and number,\n",
    "1. line timetable on a bus stop based on its id and number,\n",
    "1. bus stops coordinates.\n",
    "\n",
    "Before downloading data, set up an account on [UMWaw API](https://api.um.warszawa.pl/) to generate your API key. In the beginning, you can use API key generated just for the purpose of testing of this particular library."
   ]
  },
  {
   "cell_type": "code",
   "execution_count": 1,
   "id": "narrow-bouquet",
   "metadata": {},
   "outputs": [],
   "source": [
    "API_KEY = '5fbe79ed-1f5b-4019-ab03-641443842d8b'"
   ]
  },
  {
   "cell_type": "code",
   "execution_count": 2,
   "id": "professional-lender",
   "metadata": {},
   "outputs": [],
   "source": [
    "from bwaw.api.requests import *\n",
    "from bwaw.io.save import save_response_to_csv, save_response_to_pickle"
   ]
  },
  {
   "cell_type": "markdown",
   "id": "italian-wheat",
   "metadata": {},
   "source": [
    "## Online bus activity"
   ]
  },
  {
   "cell_type": "code",
   "execution_count": 3,
   "id": "documented-perfume",
   "metadata": {},
   "outputs": [
    {
     "data": {
      "text/plain": [
       "[{'Lines': '311',\n",
       "  'Lon': 21.091157,\n",
       "  'VehicleNumber': '1000',\n",
       "  'Time': '2021-02-10 19:33:17',\n",
       "  'Lat': 52.2281371,\n",
       "  'Brigade': '1'},\n",
       " {'Lines': '130',\n",
       "  'Lon': 21.0034666,\n",
       "  'VehicleNumber': '1001',\n",
       "  'Time': '2021-02-10 19:33:15',\n",
       "  'Lat': 52.2058375,\n",
       "  'Brigade': '1'}]"
      ]
     },
     "execution_count": 3,
     "metadata": {},
     "output_type": "execute_result"
    }
   ],
   "source": [
    "get_active_buses(api_key=API_KEY)[:2]"
   ]
  },
  {
   "cell_type": "markdown",
   "id": "victorian-production",
   "metadata": {},
   "source": [
    "Each request is formatted into a list of either values or dictionaries. Buses active at the moment of requesting resources provide information on line number, geographical coordinates (lon and lat), brigade and vehicle number as well as time of information update.\n",
    "\n",
    "This resource can be downloaded also over a period of specified time. If a connection fails, it attempts to download it again starting from the failing resource and can also save partial results if a user has to stop downloading the resources (partial results are deleted if the whole process is successful). All partial results are then merged into one list."
   ]
  },
  {
   "cell_type": "code",
   "execution_count": 4,
   "id": "least-vitamin",
   "metadata": {},
   "outputs": [
    {
     "name": "stderr",
     "output_type": "stream",
     "text": [
      "INFO:Attempt 1/3.\n",
      "INFO:Initialising new download session.\n",
      "100%|██████████| 2/2 [01:01<00:00, 35.91s/it]INFO:Data collected in 1/3 attempts.\n"
     ]
    },
    {
     "data": {
      "text/plain": [
       "[{'Lines': '311',\n",
       "  'Lon': 21.091157,\n",
       "  'VehicleNumber': '1000',\n",
       "  'Time': '2021-02-10 19:33:17',\n",
       "  'Lat': 52.2281371,\n",
       "  'Brigade': '1'},\n",
       " {'Lines': '130',\n",
       "  'Lon': 21.0034666,\n",
       "  'VehicleNumber': '1001',\n",
       "  'Time': '2021-02-10 19:33:15',\n",
       "  'Lat': 52.2058375,\n",
       "  'Brigade': '1'}]"
      ]
     },
     "execution_count": 4,
     "metadata": {},
     "output_type": "execute_result"
    }
   ],
   "source": [
    "get_active_buses_over_time(api_key=API_KEY, \n",
    "                           no_of_requests=2, \n",
    "                           interval_btwn_requests=1, \n",
    "                           keep_partial_if_fail=True)[:2]"
   ]
  },
  {
   "cell_type": "markdown",
   "id": "revolutionary-excess",
   "metadata": {},
   "source": [
    "## Static resources\n",
    "\n",
    "When downloading resources, remember to follow typing guideliness. If you pass wrong types, validation metrics will block you request attempt and inform you about the problem."
   ]
  },
  {
   "cell_type": "code",
   "execution_count": 5,
   "id": "alternate-rehabilitation",
   "metadata": {},
   "outputs": [
    {
     "data": {
      "text/plain": [
       "['7088', '7606']"
      ]
     },
     "execution_count": 5,
     "metadata": {},
     "output_type": "execute_result"
    }
   ],
   "source": [
    "get_bus_stops_ids_by_name(api_key=API_KEY, name='Rondo ONZ')"
   ]
  },
  {
   "cell_type": "code",
   "execution_count": 6,
   "id": "hundred-floating",
   "metadata": {},
   "outputs": [
    {
     "data": {
      "text/plain": [
       "['109', '160', '174', 'N12', 'N13']"
      ]
     },
     "execution_count": 6,
     "metadata": {},
     "output_type": "execute_result"
    }
   ],
   "source": [
    "get_all_lines_on_bus_stop(api_key=API_KEY, bus_stop_id='7088', bus_stop_nr='01')[:5]"
   ]
  },
  {
   "cell_type": "code",
   "execution_count": 7,
   "id": "pending-university",
   "metadata": {},
   "outputs": [
    {
     "name": "stderr",
     "output_type": "stream",
     "text": [
      "100%|██████████| 2/2 [01:03<00:00, 31.78s/it]\n"
     ]
    },
    {
     "data": {
      "text/plain": [
       "[{'Brigade': '1', 'Destination': 'Torwar', 'Time': '05:16:00'},\n",
       " {'Brigade': '3', 'Destination': 'Torwar', 'Time': '05:46:00'},\n",
       " {'Brigade': '4', 'Destination': 'Torwar', 'Time': '06:18:00'},\n",
       " {'Brigade': '6', 'Destination': 'Torwar', 'Time': '06:36:00'},\n",
       " {'Brigade': '08', 'Destination': 'Torwar', 'Time': '06:54:00'},\n",
       " {'Brigade': '1', 'Destination': 'Torwar', 'Time': '07:12:00'},\n",
       " {'Brigade': '2', 'Destination': 'Torwar', 'Time': '07:28:00'},\n",
       " {'Brigade': '3', 'Destination': 'Torwar', 'Time': '07:44:00'},\n",
       " {'Brigade': '07', 'Destination': 'Torwar', 'Time': '07:59:00'},\n",
       " {'Brigade': '4', 'Destination': 'Torwar', 'Time': '08:14:00'}]"
      ]
     },
     "execution_count": 7,
     "metadata": {},
     "output_type": "execute_result"
    }
   ],
   "source": [
    "get_timetable_for_line_on_bus_stop(api_key=API_KEY, bus_stop_id='7088', bus_stop_nr='01', line='109')[:10]"
   ]
  },
  {
   "cell_type": "code",
   "execution_count": 8,
   "id": "prompt-preservation",
   "metadata": {},
   "outputs": [
    {
     "data": {
      "text/plain": [
       "[{'ID': '1001',\n",
       "  'Number': '01',\n",
       "  'Latitude': '52.248455',\n",
       "  'Longitude': '21.044827',\n",
       "  'Destination': 'al.Zieleniecka',\n",
       "  'Validity': '2020-10-12 00:00:00.0'},\n",
       " {'ID': '1001',\n",
       "  'Number': '02',\n",
       "  'Latitude': '52.249078',\n",
       "  'Longitude': '21.044443',\n",
       "  'Destination': 'Ząbkowska',\n",
       "  'Validity': '2020-10-12 00:00:00.0'},\n",
       " {'ID': '1001',\n",
       "  'Number': '03',\n",
       "  'Latitude': '52.248998',\n",
       "  'Longitude': '21.043983',\n",
       "  'Destination': 'al.Zieleniecka',\n",
       "  'Validity': '2020-10-12 00:00:00.0'},\n",
       " {'ID': '1001',\n",
       "  'Number': '03',\n",
       "  'Latitude': '52.248928',\n",
       "  'Longitude': '21.044169',\n",
       "  'Destination': 'al.Zieleniecka',\n",
       "  'Validity': '2020-11-19 00:00:00.0'},\n",
       " {'ID': '1001',\n",
       "  'Number': '04',\n",
       "  'Latitude': '52.249905',\n",
       "  'Longitude': '21.041726',\n",
       "  'Destination': 'Ząbkowska',\n",
       "  'Validity': '2020-10-12 00:00:00.0'}]"
      ]
     },
     "execution_count": 8,
     "metadata": {},
     "output_type": "execute_result"
    }
   ],
   "source": [
    "get_bus_stops_coordinates(api_key=API_KEY)[:5]"
   ]
  },
  {
   "cell_type": "markdown",
   "id": "naughty-twelve",
   "metadata": {},
   "source": [
    "All responses are stored in a list that is convertable to DataFrame, to avoid confusion."
   ]
  },
  {
   "cell_type": "markdown",
   "id": "civic-creek",
   "metadata": {},
   "source": [
    "## Saving to a file\n",
    "\n",
    "Currently saving and loading using two formats is provided: `.csv` and `.pkl`. "
   ]
  },
  {
   "cell_type": "code",
   "execution_count": 9,
   "id": "alone-banks",
   "metadata": {},
   "outputs": [],
   "source": [
    "response = get_active_buses(api_key=API_KEY)[:2]\n",
    "save_response_to_csv(data=response, path='data.csv')"
   ]
  },
  {
   "cell_type": "code",
   "execution_count": 10,
   "id": "leading-chamber",
   "metadata": {},
   "outputs": [],
   "source": [
    "response = get_bus_stops_ids_by_name(api_key=API_KEY, name='Rondo ONZ')\n",
    "save_response_to_pickle(data=response, path='data.pkl')"
   ]
  }
 ],
 "metadata": {
  "kernelspec": {
   "display_name": "Python 3",
   "language": "python",
   "name": "python3"
  },
  "language_info": {
   "codemirror_mode": {
    "name": "ipython",
    "version": 3
   },
   "file_extension": ".py",
   "mimetype": "text/x-python",
   "name": "python",
   "nbconvert_exporter": "python",
   "pygments_lexer": "ipython3",
   "version": "3.8.5"
  }
 },
 "nbformat": 4,
 "nbformat_minor": 5
}
